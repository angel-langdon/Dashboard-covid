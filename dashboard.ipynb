{
 "cells": [
  {
   "cell_type": "code",
   "execution_count": 36,
   "metadata": {},
   "outputs": [],
   "source": [
    "import dash\n",
    "import dash_core_components as dcc\n",
    "import dash_html_components as html\n",
    "from jupyter_dash import JupyterDash\n",
    "\n",
    "import plotly.express as px\n",
    "\n",
    "from datetime import datetime, timedelta\n",
    "import pandas as pd\n",
    "import os\n",
    "DATA_FOLDER = \"./data/final_data\"\n",
    "\n",
    "def read_data(name):\n",
    "    #return pd.read_csv(os.path.join(DATA_FOLDER, name), sep=\";\")\n",
    "    base_url = \"https://entredatos.es/dashboard-covid/final_data/\"\n",
    "    return pd.read_csv(f\"{base_url}{name}\" ,sep=\";\")"
   ]
  },
  {
   "cell_type": "code",
   "execution_count": 37,
   "metadata": {},
   "outputs": [
    {
     "data": {
      "text/plain": [
       "['semanal_acumulado.csv', 'diario_acumulado.csv', 'semanal_desacumulado.csv']"
      ]
     },
     "execution_count": 37,
     "metadata": {},
     "output_type": "execute_result"
    }
   ],
   "source": [
    "os.listdir(DATA_FOLDER)"
   ]
  },
  {
   "cell_type": "code",
   "execution_count": 38,
   "metadata": {},
   "outputs": [],
   "source": [
    "\n",
    "diario_acumulado = read_data('diario_acumulado.csv')\n",
    "semanal_acumulado = read_data('semanal_acumulado.csv')\n",
    "semanal_desacumulado = read_data('semanal_desacumulado.csv')"
   ]
  },
  {
   "cell_type": "code",
   "execution_count": 39,
   "metadata": {},
   "outputs": [
    {
     "data": {
      "text/plain": [
       "Index(['Comunidad Autónoma', 'Confirmados', 'Muertes', 'Día', 'Población',\n",
       "       '% de letalidad', '% Población contagiada acumulado'],\n",
       "      dtype='object')"
      ]
     },
     "execution_count": 39,
     "metadata": {},
     "output_type": "execute_result"
    }
   ],
   "source": [
    "diario_acumulado_ultimo = diario_acumulado[-19:].copy()\n",
    "diario_acumulado_ultimo.columns"
   ]
  },
  {
   "cell_type": "code",
   "execution_count": 40,
   "metadata": {},
   "outputs": [
    {
     "data": {
      "text/plain": [
       "'teal'"
      ]
     },
     "execution_count": 40,
     "metadata": {},
     "output_type": "execute_result"
    }
   ],
   "source": [
    "palettes = {\"Confirmados\": \"teal\",\n",
    "           \"Muertes\": \"red\",\n",
    "           \"% de letalidad\":\"#000\"}\n",
    "palettes[\"Confirmados\"]"
   ]
  },
  {
   "cell_type": "code",
   "execution_count": 33,
   "metadata": {},
   "outputs": [],
   "source": []
  },
  {
   "cell_type": "code",
   "execution_count": 41,
   "metadata": {},
   "outputs": [],
   "source": [
    "def grafico_barras_verticales(df, yvalue, xvalue = \"Comunidad Autónoma\"):\n",
    "    return px.bar(df.sort_values(by = [yvalue]),\n",
    "             x=xvalue,\n",
    "             y=yvalue,\n",
    "            color_discrete_sequence=[palettes[yvalue]])"
   ]
  },
  {
   "cell_type": "code",
   "execution_count": 43,
   "metadata": {
    "scrolled": false
   },
   "outputs": [
    {
     "data": {
      "text/html": [
       "\n",
       "        <iframe\n",
       "            width=\"100%\"\n",
       "            height=\"650\"\n",
       "            src=\"http://127.0.0.1:8050/\"\n",
       "            frameborder=\"0\"\n",
       "            allowfullscreen\n",
       "        ></iframe>\n",
       "        "
      ],
      "text/plain": [
       "<IPython.lib.display.IFrame at 0x7fc109d02fa0>"
      ]
     },
     "metadata": {},
     "output_type": "display_data"
    }
   ],
   "source": [
    "\n",
    "app = JupyterDash(__name__)\n",
    "\n",
    "#app = dash.Dash(__name__, external_stylesheets=external_stylesheets)\n",
    "\n",
    "app.layout = html.Div(children=[\n",
    "    html.H1(children='Ángel & Nacho | Dashboard COVID-19 España',\n",
    "            className=\"app-header--title\"),\n",
    "\n",
    "    html.Div(children='''\n",
    "        Dashboard en el que se muestran datos del casos y muertes por COVID-19 en España, todo\n",
    "        ello agrupado por comunidades y ciudades autónomas\n",
    "    '''),\n",
    "    \n",
    "    html.Div(children=[\n",
    "        dcc.Graph(\n",
    "        id='grafico-confirmados',\n",
    "        figure=grafico_barras_verticales(diario_acumulado_ultimo,\n",
    "                               \"Confirmados\"),\n",
    "        className = \"six columns\"\n",
    "            \n",
    "    ),\n",
    "        dcc.Graph(\n",
    "        id='grafico-muertes',\n",
    "        figure=grafico_barras_verticales(diario_acumulado_ultimo,\n",
    "                                \"Muertes\"),\n",
    "        className = \"six columns\"\n",
    "    )],className=\"row\"),\n",
    "    dcc.Graph(\n",
    "        id='tasa-mortalidad',\n",
    "        figure=grafico_barras_verticales(diario_acumulado_ultimo,\n",
    "                                \"% de letalidad\"))\n",
    "\n",
    "    \n",
    "])\n",
    "\n",
    "if __name__ == '__main__':\n",
    "    app.run_server(mode='inline')"
   ]
  },
  {
   "cell_type": "code",
   "execution_count": null,
   "metadata": {},
   "outputs": [],
   "source": []
  },
  {
   "cell_type": "code",
   "execution_count": null,
   "metadata": {},
   "outputs": [],
   "source": []
  }
 ],
 "metadata": {
  "kernelspec": {
   "display_name": "Python 3",
   "language": "python",
   "name": "python3"
  },
  "language_info": {
   "codemirror_mode": {
    "name": "ipython",
    "version": 3
   },
   "file_extension": ".py",
   "mimetype": "text/x-python",
   "name": "python",
   "nbconvert_exporter": "python",
   "pygments_lexer": "ipython3",
   "version": "3.8.6"
  }
 },
 "nbformat": 4,
 "nbformat_minor": 4
}
